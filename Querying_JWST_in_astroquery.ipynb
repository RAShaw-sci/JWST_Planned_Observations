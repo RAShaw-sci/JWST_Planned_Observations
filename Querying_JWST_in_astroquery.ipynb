{
 "cells": [
  {
   "cell_type": "markdown",
   "metadata": {},
   "source": [
    "# Find Existing and Planned JWST Observations Using _astroquery_"
   ]
  },
  {
   "cell_type": "markdown",
   "metadata": {},
   "source": [
    "## Introduction\n",
    "\n",
    "As with _HST, JWST_ observers are not allowed to propose observations that duplicate existing, planned, or approved observations unless they provide a scientific justification in their proposal and that request is approved. Consult the [JWST Duplicate Observation Policy](https://jwst-docs.stsci.edu/jwst-opportunities-and-policies/jwst-general-science-policies/jwst-duplicate-observations-policy) for details. Broadly speaking, observations might duplicate if they are obtained with the same scientific instrument (or a different instrument with similar configurations and capabilities), and two or more of the following apply:\n",
    "  * Same astrophysical source, or significant spatial overlap of fields\n",
    "  * Similar imaging passband, or overlapping spectral range\n",
    "  * Similar (spectral) resolution\n",
    "  * Similar exposure depth\n",
    "\n",
    "This notebook illustrates how to use the python package [astroquery](https://astroquery.readthedocs.io/en/latest/mast/mast.html) to search the Mikulski Archive for Space Telescopes (MAST) for potential duplicate observations. Proposers may also use the [MAST Portal](https://mast.stsci.edu/portal/Mashup/Clients/Mast/Portal.html) to search the archive, but that may be less efficient for large numbers of targets. \n",
    "\n",
    "<ul>\n",
    "    <li><a href=\"#Setup\">Setup</a></li>\n",
    "    <li><a href=\"#Example-Queries\">Example Queries</a></li>\n",
    "    <ul>\n",
    "        <li><a href=\"#Target-by-Name\">Single Target by Name</a></li>\n",
    "        <li><a href=\"#Moving-Target\">Single Moving Target</a></li>\n",
    "        <li><a href=\"#Target-Field\">Target Field by Position</a></li>\n",
    "        <li><a href=\"#Target-List\">Search a Target List</a></li>\n",
    "        <li><a href=\"#upload-targets\">Loading Targets from a File</a></li>\n",
    "    </ul>\n",
    "    <li><a href=\"#Resources\">Additional Resources</a></li>\n",
    "</ul>"
   ]
  },
  {
   "cell_type": "markdown",
   "metadata": {},
   "source": [
    "### Special Disclaimer\n",
    "<a id=\"Disclaimer\"></a>\n",
    "\n",
    "The capabilities described here will help <em>identify</em> potential duplications between your intended JWST observations and those that have been approved, planned, or that have already executed. \n",
    "\n",
    "<div class=\"alert alert-block alert-info\">\n",
    "\n",
    "<span style=\"color:black\">\n",
    "The complete footprint of approved (but not executed) dithered or mosaicked observations is only approximate. That is, only the primary location is reported for an observation, but not necessarily those for associated dither positions or mosaic tiles. Moreover metadata in MAST about planned/approved observations is <b>not sufficient</b> to determine precisely whether your intended observation is a genuine duplication, particularly for slit or MOS spectroscopy. You are responsible for evaluating the details of the planned observations by using the accepted program's APT file (and/or the Aladin display in APT, as appropriate) to determine if the potential duplications are genuine.\n",
    "</span>\n",
    "</div>\n"
   ]
  },
  {
   "cell_type": "markdown",
   "metadata": {},
   "source": [
    "<a id=\"Setup\"></a>\n",
    "## Setup\n",
    "\n",
    "We begin by importing some essential python packages: general utilities in [astropy](https://www.astropy.org/), the [pandas](https://pandas.pydata.org/) data manipulation library, and query services in astroquery. We also define a utility routine to create URLs to the parent programs of matching observations. "
   ]
  },
  {
   "cell_type": "code",
   "execution_count": null,
   "metadata": {},
   "outputs": [],
   "source": [
    "import astropy\n",
    "import pandas as pd\n",
    "from astropy import table\n",
    "from astropy import units as u\n",
    "from astropy.coordinates import Angle\n",
    "from astroquery.mast import Mast\n",
    "from astroquery.mast import Observations\n",
    "\n",
    "# Give the notebook cells more of the available width\n",
    "from IPython.core.display import display, HTML\n",
    "display(HTML(\"<style>.container { width:99% !important; }</style>\"))\n",
    "\n",
    "APT_LINK = 'http://www.stsci.edu/cgi-bin/get-proposal-info?id={}&observatory=JWST'\n",
    "\n",
    "def get_program_URL(program_id):\n",
    "    \"\"\"\n",
    "    Generate the URL for program status information, given a program ID. \n",
    "    \"\"\"\n",
    "    return APT_LINK.format(program_id)"
   ]
  },
  {
   "cell_type": "markdown",
   "metadata": {},
   "source": [
    "The results of an astroquery search are contained in an [astropy table](https://docs.astropy.org/en/stable/table/). There are multiple ways to display the results; the function below displays table fields that are most relevant for identifying potential duplications of JWST observations, and should be treated as illustrative. "
   ]
  },
  {
   "cell_type": "code",
   "execution_count": null,
   "metadata": {},
   "outputs": [],
   "source": [
    "def display_results(obs):\n",
    "    \"\"\"\n",
    "    Simple display of results related to identifying potentially duplicating targets.\n",
    "    Observation program title is truncated for presentation in this notebook\n",
    "    \"\"\"\n",
    "    # build the URL to the JWST programs.\n",
    "    obs['proposal_URL'] = [get_program_URL(x) for x in obs['proposal_id']]\n",
    "    obs['obs_title'] = [x[:70] for x in obs['obs_title']]\n",
    "    obs['obs_title'].info.format = '<'\n",
    "    obs['target_name', 'instrument_name', 'filters', 'dataproduct_type', 't_exptime', \n",
    "        'proposal_id'].pprint(max_lines=40, max_width=90)\n",
    "    \n",
    "    print(\"\\nUnique Program Titles:\")\n",
    "    table.unique(obs, keys=['proposal_id'])['proposal_id','obs_title'].pprint(max_width=100)\n",
    "    print(\"\\nUnique URLs to status of existing programs:\")\n",
    "    for i in set(obs['proposal_URL']):\n",
    "        print(i)"
   ]
  },
  {
   "cell_type": "markdown",
   "metadata": {},
   "source": [
    "<a id=\"Example-Queries\"></a>\n",
    "## Example Queries\n",
    "\n",
    "All of the queries below search for JWST observations, using a search radius somewhat larger than fields of view (FoV) of interest, to allow for the possibility that the FoV may be rotated when approved-but-unexecuted observations are actually scheduled. If your intended observation uses a different FoV, then adjust the search radius accordingly. "
   ]
  },
  {
   "cell_type": "markdown",
   "metadata": {},
   "source": [
    "<a id=\"Target-by-Name\"></a>\n",
    "### Single Target by Name\n",
    "\n",
    "This example shows how to query for a single target with a standard name, **Trappist-1** which is a star with a known exo-planet. The intended observations would be timeseries imaging in a small FoV. Note that the name will be resolved automatically to coordinates in this case. We use the <b><code>query_criteria()</code></b> method to limit the search to JWST observations. "
   ]
  },
  {
   "cell_type": "code",
   "execution_count": null,
   "metadata": {},
   "outputs": [],
   "source": [
    "obs = Observations.query_criteria(\n",
    "        objectname=\"Trappist-1\", \n",
    "        radius=\"10s\", \n",
    "        obs_collection=\"JWST\"\n",
    "        )\n",
    "print('Number of matching observations: {}'.format(len(obs)))"
   ]
  },
  {
   "cell_type": "markdown",
   "metadata": {},
   "source": [
    "Examine the returned table columns most relevant for identifying potential duplications. Note: it is still up to you to determine if these observations count as a duplicate with those you were planning. For instance, it does not provide the timing information necessary to determine which TRAPPIST-1 planet they are targetting. In some cases, the target name or proposal title (<code>obs_title</code>) contains this information."
   ]
  },
  {
   "cell_type": "code",
   "execution_count": null,
   "metadata": {},
   "outputs": [],
   "source": [
    "display_results(obs)"
   ]
  },
  {
   "cell_type": "markdown",
   "metadata": {},
   "source": [
    "<a id=\"Moving-Target\"></a>\n",
    "### Single Moving Target\n",
    "\n",
    "This example shows how to query for a moving target. This kind of search is limited to a modest set of solar system bodies with recognized names. Note the use of a wildcard character (*) in case the target name includes other text."
   ]
  },
  {
   "cell_type": "code",
   "execution_count": null,
   "metadata": {},
   "outputs": [],
   "source": [
    "obs = Observations.query_criteria(\n",
    "        target_name=\"Io*\",\n",
    "        obs_collection=\"JWST\"\n",
    "        )\n",
    "    \n",
    "display_results(obs)"
   ]
  },
  {
   "cell_type": "markdown",
   "metadata": {},
   "source": [
    "<a id=\"Target-Field\"></a>\n",
    "### Target Field by Position\n",
    "\n",
    "This example shows how to search an area of sky for overlap with a proposed deep field. The field center (RA, Dec) is (12:12:22.513, +27:34:13.88), and the planned survey area is 30&times;30 arcmin. We will limit the search to JWST imaging observations. First, convert the coordinate representationn to degrees, then execute the search."
   ]
  },
  {
   "cell_type": "code",
   "execution_count": null,
   "metadata": {},
   "outputs": [],
   "source": [
    "ra_deg = Angle('12:12:22.513 hours').degree\n",
    "dec_deg = Angle('+27:34:13.88 degree').degree\n",
    "obs = Observations.query_criteria(\n",
    "        s_ra=[ra_deg-0.25,ra_deg+0.25],\n",
    "        s_dec=[dec_deg-0.25,dec_deg+0.25],\n",
    "        dataproduct_type=\"image\",\n",
    "        obs_collection=\"JWST\"\n",
    "        )"
   ]
  },
  {
   "cell_type": "markdown",
   "metadata": {},
   "source": [
    "There is clearly an overlap with another program, but only in certain filters:"
   ]
  },
  {
   "cell_type": "code",
   "execution_count": null,
   "metadata": {},
   "outputs": [],
   "source": [
    "display_results(obs)"
   ]
  },
  {
   "cell_type": "markdown",
   "metadata": {},
   "source": [
    "<a id=\"Target-List\"></a>\n",
    "### Search for Observations of Targets in a List\n",
    "\n",
    "It may be best to search for individual targets (as above) with the [MAST Portal](https://mast.stsci.edu/portal/Mashup/Clients/Mast/Portal.html) because the results are easily visualized. But it may be more efficient to search for a large list of targets using astroquery. \n",
    "\n",
    "Your list might be stored in a file on your local system, and consist of coordinates and custom search radii. But for simplicity the list in this example consists of standard target names, constructed in code. Not all of the targets have approved or existing JWST observations, so the first step is to determine the number of observations for each target using the astroquery method <b><code>Observations.query_criteria_count()</code></b>.\n",
    "\n",
    "<div class=\"alert alert-block alert-info\">\n",
    "\n",
    "<span style=\"color:black\">\n",
    "    It is good practice to first check the number of matching observations before fetching the results themselves, in case the number of results is extremely large. This is more important when querying large MAST missions, such as <i>HST</i>. Note that even for a modest number of results this query may take several seconds.\n",
    "    \n",
    "</span>\n",
    "</div>"
   ]
  },
  {
   "cell_type": "code",
   "execution_count": null,
   "metadata": {},
   "outputs": [],
   "source": [
    "# Create a dictionary to contain the number of observations for each target\n",
    "targets = {'CX Tau':0, 'Fomalhaut':0,'HL Tauri':0,'M 8':0,'HD 12345':0}\n",
    "\n",
    "search_radius = '30'\n",
    "for t,n in targets.items():\n",
    "    targets[t] = Observations.query_criteria_count(\n",
    "            objectname=t, \n",
    "            radius='{}s'.format(search_radius), \n",
    "            obs_collection='JWST'\n",
    "            )\n",
    "\n",
    "targets"
   ]
  },
  {
   "cell_type": "markdown",
   "metadata": {},
   "source": [
    "It is clear that none of the targets in the list has an excessive number of matching observations. Now check the results for the targets with non-zero matching observations in detail. <b>Note:</b> since the loop creates one astropy table for each search, we place each in a list and then concatenate them for display. "
   ]
  },
  {
   "cell_type": "code",
   "execution_count": null,
   "metadata": {},
   "outputs": [],
   "source": [
    "obs_list = []\n",
    "for t,n in targets.items():\n",
    "    if n > 0:\n",
    "        obs = Observations.query_criteria(\n",
    "            objectname=t, \n",
    "            radius='{}s'.format(search_radius), \n",
    "            obs_collection='JWST'\n",
    "            )\n",
    "        obs_list.append(obs)\n",
    "        \n",
    "target_matches = table.vstack(obs_list)\n",
    "display_results(target_matches)"
   ]
  },
  {
   "cell_type": "markdown",
   "metadata": {},
   "source": [
    "If you write the results table to a disk file in ECSV format (see [astropy table I/O](https://docs.astropy.org/en/stable/io/unified.html#table-io-ascii)), that will preserve the table metadata, as well as the option for reading the file as an astropy table in a subsequent python session."
   ]
  },
  {
   "cell_type": "code",
   "execution_count": null,
   "metadata": {},
   "outputs": [],
   "source": [
    "target_matches.write('target_matches.ecsv', format='ascii.ecsv')"
   ]
  },
  {
   "cell_type": "markdown",
   "metadata": {},
   "source": [
    "<a id=\"upload-targets\"></a>\n",
    "### Loading Targets from a File\n",
    "Somtimes it may be more convenient to read in a list of targets from a local file rather than manually specifying each one.  We provide a convenience function that will read in a list of target names or coordinates from an input CSV file and output a list.  First we define the function `load_targets_from_file`."
   ]
  },
  {
   "cell_type": "code",
   "execution_count": null,
   "metadata": {},
   "outputs": [],
   "source": [
    "def load_targets_from_file(filename, load_by='name', namecol='target_name', racol='ra', deccol='dec'):\n",
    "    ''' load a list of targets from a csv file\n",
    "    \n",
    "    Loads a csv file returns a list of targets.  Can either extract and return a list of \n",
    "    target names or list of target coordinates.  When loading by target name, if nothing specified, \n",
    "    assumes the first column contains the target name. When loading by coordinate, if nothing specified, \n",
    "    assumes the first two columns contain the RA and Dec.\n",
    "    \n",
    "    Parameters:\n",
    "        filename (str):\n",
    "            The input filename to load\n",
    "        load_by (str):\n",
    "            Load by target name or coordinate.  Either \"name\" or \"coord\".  Default is load by target name.\n",
    "        namecol (str):\n",
    "            The name of the column in the file containing target name.  Default is \"target_name\".\n",
    "        racol (str):\n",
    "            The name of the column in the file containing Right Ascension.  Default is \"ra\".\n",
    "        decol (str):\n",
    "            The name of the column in the file containing Declination.  Default is \"dec\".\n",
    "    \n",
    "    Returns:\n",
    "        A list of target names or target coords loaded from a file\n",
    "\n",
    "    '''\n",
    "\n",
    "    assert isinstance(filename, str), 'filename must be a string'\n",
    "    assert load_by in ['name', 'coord'], 'load_by can only be either \"name\" or \"coord\"'\n",
    "\n",
    "    # read in csv file into Pandas dataframe and format column names to lowercase, stripped whitespace\n",
    "    assert filename.endswith('.csv'), 'filename must be a valid csv file'\n",
    "    df = pd.read_csv(filename)\n",
    "    df.rename(columns=lambda x: x.strip().lower(), inplace=True)\n",
    "\n",
    "    # extract target names\n",
    "    if load_by == 'name':\n",
    "        namecol = namecol.strip().lower()\n",
    "        if namecol:\n",
    "            assert namecol in df.columns, 'csv file does not contain column {0}'.format(namecol)\n",
    "        targets = df[namecol] if namecol else df[df.columns[0]]\n",
    "        return targets.to_list()\n",
    "    \n",
    "    # extract target coordinates\n",
    "    if load_by == 'coord':\n",
    "        racol = racol.strip().lower()\n",
    "        deccol = deccol.strip().lower()\n",
    "        if racol:\n",
    "            assert racol in df.columns, 'csv file does not contain column {0}'.format(racol)\n",
    "        if deccol:\n",
    "            assert deccol in df.columns, 'csv file does not contain column {0}'.format(deccol)\n",
    "\n",
    "        coord = df[[racol, deccol]] if racol and deccol else df[df.columns[0:2]]\n",
    "        targets = coord.to_records(index=False).tolist()\n",
    "        return targets"
   ]
  },
  {
   "cell_type": "markdown",
   "metadata": {},
   "source": [
    "Let's imagine we have a csv file, `targets.csv` on disk with the following contents:\n",
    "```\n",
    "target_name, RA, DEC\n",
    "CX Tau, 67.910, 18.2336\n",
    "Fomalhaut, 67.910, 18.2336\n",
    "HL Tauri, 67.910, 18.2336\n",
    "M 8, 67.910, 18.2336\n",
    "HD 12345, 67.910, 18.2336\n",
    "```\n",
    "We can use our new function to read in the targets.  By default, ``load_targets_from_file`` loads objects by target name.  It can be toggled to instead load object coordinates by setting the ``load_by`` keyword argument.  When loading objects as target names, ``load_targets_from_file``, will look for a column called ``target_name``.  When loading objects as coordinates, it will look for columns called ``ra`` and ``dec``.  If your file has different names for these columns, you can override these column names using the ``namecol``, ``racol``, and ``deccol`` keyword arguments respectively."
   ]
  },
  {
   "cell_type": "code",
   "execution_count": null,
   "metadata": {},
   "outputs": [],
   "source": [
    "# load objects as target names\n",
    "target_names = load_targets_from_file('targets.csv')\n",
    "print('Targets', target_names)"
   ]
  },
  {
   "cell_type": "code",
   "execution_count": null,
   "metadata": {},
   "outputs": [],
   "source": [
    "# load objects as target coordinates\n",
    "target_coords = load_targets_from_file('targets.csv', load_by='coord')\n",
    "print('Targets', target_coords)"
   ]
  },
  {
   "cell_type": "markdown",
   "metadata": {},
   "source": [
    "Once your targets are loaded, you may query on them using the same ``astroquery`` functions as above, depending on whether you want to search by name or by coordinate.  For example, to query by name using your list of target names, we first need to get the count of the number of results before we can perform the real query."
   ]
  },
  {
   "cell_type": "code",
   "execution_count": null,
   "metadata": {},
   "outputs": [],
   "source": [
    "# convert names to dictionary to hold result counts\n",
    "targets = {name:0 for name in target_names}\n",
    "\n",
    "# get the counts of each target\n",
    "search_radius = '30'\n",
    "for t,n in targets.items():\n",
    "    targets[t] = Observations.query_criteria_count(\n",
    "            objectname=t, \n",
    "            radius='{}s'.format(search_radius), \n",
    "            obs_collection='JWST'\n",
    "            )\n",
    "\n",
    "targets"
   ]
  },
  {
   "cell_type": "markdown",
   "metadata": {},
   "source": [
    "<a id=\"Resources\"></a>\n",
    "# Additional Resources\n",
    "\n",
    "* [astropy](https://docs.astropy.org/en/stable/index.html) documentation\n",
    "* [astroquery](https://astroquery.readthedocs.io/en/latest/mast/mast.html) documentation for querying MAST\n",
    "* [Queryable fields](https://mast.stsci.edu/api/v0/_c_a_o_mfields.html) in the MAST/CAOM database\n",
    "* The [MAST Portal](https://mast.stsci.edu/portal/Mashup/Clients/Mast/Portal.html) web interface\n",
    "* [pandas](https://pandas.pydata.org/) documentation"
   ]
  },
  {
   "cell_type": "markdown",
   "metadata": {},
   "source": [
    "## About this notebook\n",
    "This notebook was developed by Archive Sciences Branch staff, chiefly Susan Mullally and Dick Shaw. For support, please contact the Archive HelpDesk, at archive@stsci.edu. \n",
    "<img style=\"float: right;\" src=\"https://raw.githubusercontent.com/spacetelescope/notebooks/master/assets/stsci_pri_combo_mark_horizonal_white_bkgd.png\" alt=\"Space Telescope Logo\" width=\"200px\"/>"
   ]
  }
 ],
 "metadata": {
  "kernelspec": {
   "display_name": "Python 3",
   "language": "python",
   "name": "python3"
  },
  "language_info": {
   "codemirror_mode": {
    "name": "ipython",
    "version": 3
   },
   "file_extension": ".py",
   "mimetype": "text/x-python",
   "name": "python",
   "nbconvert_exporter": "python",
   "pygments_lexer": "ipython3",
   "version": "3.7.2"
  }
 },
 "nbformat": 4,
 "nbformat_minor": 2
}
